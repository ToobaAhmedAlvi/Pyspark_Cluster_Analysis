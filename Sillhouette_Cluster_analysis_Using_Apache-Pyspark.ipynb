{
 "cells": [
  {
   "cell_type": "markdown",
   "metadata": {},
   "source": [
    "# INSTALLING LIBRARIES"
   ]
  },
  {
   "cell_type": "code",
   "execution_count": 2,
   "metadata": {},
   "outputs": [
    {
     "name": "stdout",
     "output_type": "stream",
     "text": [
      "Requirement already satisfied: ipython in c:\\users\\tooba.alvi\\anaconda3\\lib\\site-packages (8.18.1)\n",
      "Requirement already satisfied: stack-data in c:\\users\\tooba.alvi\\anaconda3\\lib\\site-packages (from ipython) (0.6.3)\n",
      "Requirement already satisfied: jedi>=0.16 in c:\\users\\tooba.alvi\\anaconda3\\lib\\site-packages (from ipython) (0.18.1)\n",
      "Requirement already satisfied: exceptiongroup in c:\\users\\tooba.alvi\\anaconda3\\lib\\site-packages (from ipython) (1.2.0)\n",
      "Requirement already satisfied: pygments>=2.4.0 in c:\\users\\tooba.alvi\\anaconda3\\lib\\site-packages (from ipython) (2.16.1)\n",
      "Requirement already satisfied: matplotlib-inline in c:\\users\\tooba.alvi\\anaconda3\\lib\\site-packages (from ipython) (0.1.6)\n",
      "Requirement already satisfied: decorator in c:\\users\\tooba.alvi\\anaconda3\\lib\\site-packages (from ipython) (5.1.1)\n",
      "Requirement already satisfied: colorama in c:\\users\\tooba.alvi\\anaconda3\\lib\\site-packages (from ipython) (0.4.5)\n",
      "Requirement already satisfied: typing-extensions in c:\\users\\tooba.alvi\\anaconda3\\lib\\site-packages (from ipython) (4.3.0)\n",
      "Requirement already satisfied: traitlets>=5 in c:\\users\\tooba.alvi\\anaconda3\\lib\\site-packages (from ipython) (5.1.1)\n",
      "Requirement already satisfied: prompt-toolkit<3.1.0,>=3.0.41 in c:\\users\\tooba.alvi\\anaconda3\\lib\\site-packages (from ipython) (3.0.43)\n",
      "Requirement already satisfied: parso<0.9.0,>=0.8.0 in c:\\users\\tooba.alvi\\anaconda3\\lib\\site-packages (from jedi>=0.16->ipython) (0.8.3)\n",
      "Requirement already satisfied: wcwidth in c:\\users\\tooba.alvi\\anaconda3\\lib\\site-packages (from prompt-toolkit<3.1.0,>=3.0.41->ipython) (0.2.5)\n",
      "Requirement already satisfied: executing>=1.2.0 in c:\\users\\tooba.alvi\\anaconda3\\lib\\site-packages (from stack-data->ipython) (2.0.1)\n",
      "Requirement already satisfied: asttokens>=2.1.0 in c:\\users\\tooba.alvi\\anaconda3\\lib\\site-packages (from stack-data->ipython) (2.4.1)\n",
      "Requirement already satisfied: pure-eval in c:\\users\\tooba.alvi\\anaconda3\\lib\\site-packages (from stack-data->ipython) (0.2.2)\n",
      "Requirement already satisfied: six>=1.12.0 in c:\\users\\tooba.alvi\\anaconda3\\lib\\site-packages (from asttokens>=2.1.0->stack-data->ipython) (1.16.0)\n"
     ]
    }
   ],
   "source": [
    "!pip install --upgrade ipython"
   ]
  },
  {
   "cell_type": "code",
   "execution_count": 18,
   "metadata": {},
   "outputs": [
    {
     "name": "stdout",
     "output_type": "stream",
     "text": [
      "Requirement already satisfied: yfinance in c:\\users\\tooba.alvi\\anaconda3\\lib\\site-packages (0.2.36)\n",
      "Requirement already satisfied: peewee>=3.16.2 in c:\\users\\tooba.alvi\\anaconda3\\lib\\site-packages (from yfinance) (3.17.1)\n",
      "Requirement already satisfied: requests>=2.31 in c:\\users\\tooba.alvi\\anaconda3\\lib\\site-packages (from yfinance) (2.31.0)\n",
      "Requirement already satisfied: pandas>=1.3.0 in c:\\users\\tooba.alvi\\anaconda3\\lib\\site-packages (from yfinance) (1.4.4)\n",
      "Requirement already satisfied: frozendict>=2.3.4 in c:\\users\\tooba.alvi\\anaconda3\\lib\\site-packages (from yfinance) (2.4.0)\n",
      "Requirement already satisfied: lxml>=4.9.1 in c:\\users\\tooba.alvi\\anaconda3\\lib\\site-packages (from yfinance) (4.9.1)\n",
      "Requirement already satisfied: appdirs>=1.4.4 in c:\\users\\tooba.alvi\\anaconda3\\lib\\site-packages (from yfinance) (1.4.4)\n",
      "Requirement already satisfied: multitasking>=0.0.7 in c:\\users\\tooba.alvi\\anaconda3\\lib\\site-packages (from yfinance) (0.0.11)\n",
      "Requirement already satisfied: numpy>=1.16.5 in c:\\users\\tooba.alvi\\anaconda3\\lib\\site-packages (from yfinance) (1.21.5)\n",
      "Requirement already satisfied: html5lib>=1.1 in c:\\users\\tooba.alvi\\anaconda3\\lib\\site-packages (from yfinance) (1.1)\n",
      "Requirement already satisfied: beautifulsoup4>=4.11.1 in c:\\users\\tooba.alvi\\anaconda3\\lib\\site-packages (from yfinance) (4.11.1)\n",
      "Requirement already satisfied: pytz>=2022.5 in c:\\users\\tooba.alvi\\anaconda3\\lib\\site-packages (from yfinance) (2024.1)\n",
      "Requirement already satisfied: soupsieve>1.2 in c:\\users\\tooba.alvi\\anaconda3\\lib\\site-packages (from beautifulsoup4>=4.11.1->yfinance) (2.3.1)\n",
      "Requirement already satisfied: six>=1.9 in c:\\users\\tooba.alvi\\anaconda3\\lib\\site-packages (from html5lib>=1.1->yfinance) (1.16.0)\n",
      "Requirement already satisfied: webencodings in c:\\users\\tooba.alvi\\anaconda3\\lib\\site-packages (from html5lib>=1.1->yfinance) (0.5.1)\n",
      "Requirement already satisfied: python-dateutil>=2.8.1 in c:\\users\\tooba.alvi\\anaconda3\\lib\\site-packages (from pandas>=1.3.0->yfinance) (2.8.2)\n",
      "Requirement already satisfied: urllib3<3,>=1.21.1 in c:\\users\\tooba.alvi\\anaconda3\\lib\\site-packages (from requests>=2.31->yfinance) (1.26.11)\n",
      "Requirement already satisfied: charset-normalizer<4,>=2 in c:\\users\\tooba.alvi\\anaconda3\\lib\\site-packages (from requests>=2.31->yfinance) (2.0.4)\n",
      "Requirement already satisfied: certifi>=2017.4.17 in c:\\users\\tooba.alvi\\anaconda3\\lib\\site-packages (from requests>=2.31->yfinance) (2022.9.14)\n",
      "Requirement already satisfied: idna<4,>=2.5 in c:\\users\\tooba.alvi\\anaconda3\\lib\\site-packages (from requests>=2.31->yfinance) (3.3)\n",
      "Requirement already satisfied: pyspark in c:\\users\\tooba.alvi\\anaconda3\\lib\\site-packages (3.5.0)\n",
      "Requirement already satisfied: py4j==0.10.9.7 in c:\\users\\tooba.alvi\\anaconda3\\lib\\site-packages (from pyspark) (0.10.9.7)\n"
     ]
    }
   ],
   "source": [
    "!pip install yfinance\n",
    "!pip install pyspark\n"
   ]
  },
  {
   "cell_type": "code",
   "execution_count": 35,
   "metadata": {},
   "outputs": [
    {
     "name": "stdout",
     "output_type": "stream",
     "text": [
      "Requirement already satisfied: pyspark[sql] in c:\\users\\tooba.alvi\\anaconda3\\lib\\site-packages (3.5.0)\n",
      "Requirement already satisfied: py4j==0.10.9.7 in c:\\users\\tooba.alvi\\anaconda3\\lib\\site-packages (from pyspark[sql]) (0.10.9.7)\n",
      "Requirement already satisfied: pandas>=1.0.5 in c:\\users\\tooba.alvi\\anaconda3\\lib\\site-packages (from pyspark[sql]) (1.4.4)\n",
      "Requirement already satisfied: pyarrow>=4.0.0 in c:\\users\\tooba.alvi\\anaconda3\\lib\\site-packages (from pyspark[sql]) (14.0.1)\n",
      "Requirement already satisfied: numpy>=1.15 in c:\\users\\tooba.alvi\\anaconda3\\lib\\site-packages (from pyspark[sql]) (1.21.5)\n",
      "Requirement already satisfied: pytz>=2020.1 in c:\\users\\tooba.alvi\\anaconda3\\lib\\site-packages (from pandas>=1.0.5->pyspark[sql]) (2024.1)\n",
      "Requirement already satisfied: python-dateutil>=2.8.1 in c:\\users\\tooba.alvi\\anaconda3\\lib\\site-packages (from pandas>=1.0.5->pyspark[sql]) (2.8.2)\n",
      "Requirement already satisfied: six>=1.5 in c:\\users\\tooba.alvi\\anaconda3\\lib\\site-packages (from python-dateutil>=2.8.1->pandas>=1.0.5->pyspark[sql]) (1.16.0)\n",
      "Requirement already satisfied: pyspark[pandas_on_spark] in c:\\users\\tooba.alvi\\anaconda3\\lib\\site-packages (3.5.0)\n",
      "Requirement already satisfied: py4j==0.10.9.7 in c:\\users\\tooba.alvi\\anaconda3\\lib\\site-packages (from pyspark[pandas_on_spark]) (0.10.9.7)\n",
      "Requirement already satisfied: pandas>=1.0.5 in c:\\users\\tooba.alvi\\anaconda3\\lib\\site-packages (from pyspark[pandas_on_spark]) (1.4.4)\n",
      "Requirement already satisfied: pyarrow>=4.0.0 in c:\\users\\tooba.alvi\\anaconda3\\lib\\site-packages (from pyspark[pandas_on_spark]) (14.0.1)\n",
      "Requirement already satisfied: numpy>=1.15 in c:\\users\\tooba.alvi\\anaconda3\\lib\\site-packages (from pyspark[pandas_on_spark]) (1.21.5)\n",
      "Requirement already satisfied: python-dateutil>=2.8.1 in c:\\users\\tooba.alvi\\anaconda3\\lib\\site-packages (from pandas>=1.0.5->pyspark[pandas_on_spark]) (2.8.2)\n",
      "Requirement already satisfied: pytz>=2020.1 in c:\\users\\tooba.alvi\\anaconda3\\lib\\site-packages (from pandas>=1.0.5->pyspark[pandas_on_spark]) (2024.1)\n",
      "Requirement already satisfied: six>=1.5 in c:\\users\\tooba.alvi\\anaconda3\\lib\\site-packages (from python-dateutil>=2.8.1->pandas>=1.0.5->pyspark[pandas_on_spark]) (1.16.0)\n"
     ]
    }
   ],
   "source": [
    "!pip install pyspark[sql]\n",
    "!pip install pyspark[pandas_on_spark]"
   ]
  },
  {
   "cell_type": "markdown",
   "metadata": {},
   "source": [
    "## ABOUT THE DATASET\n",
    "This dataset contains historical daily prices for all tickers currently trading on NASDAQ. The up to date list is available from nasdaqtrader.com. The historic data is retrieved from Yahoo finance via yfinance python package.\n",
    "\n",
    "It contains prices for up to 29 of December 2023.\n",
    "The date for every symbol is saved in CSV format with common fields:\n",
    "\n",
    "* Date - specifies trading date\n",
    "* Open - opening price\n",
    "* High - maximum price during the day\n",
    "* Low - minimum price during the day\n",
    "* Close - close price adjusted for splits\n",
    "* Adj Close - adjusted close price adjusted for both dividends and splits.\n",
    "* Ticker - Type of Security Name\n",
    "* Volume - the number of shares that changed hands during a given day."
   ]
  },
  {
   "cell_type": "markdown",
   "metadata": {},
   "source": [
    "# IMPORTING LIBRARIES"
   ]
  },
  {
   "cell_type": "code",
   "execution_count": 62,
   "metadata": {},
   "outputs": [],
   "source": [
    "import yfinance as yf\n",
    "import datetime as dt\n",
    "import pandas as pd #data processing\n",
    "import numpy as np #linear algebra\n",
    "import matplotlib.pyplot as plt #visialization\n",
    "%matplotlib inline\n",
    "import seaborn as sns\n",
    "import pyspark\n",
    "# FOR CLUSTER ANALYSIS\n",
    "from pyspark.ml.clustering import KMeans\n",
    "from pyspark.ml import Pipeline\n",
    "from pyspark.ml.feature import VectorAssembler,StringIndexer,StandardScaler\n",
    "from pyspark.ml.classification import DecisionTreeClassifier\n",
    "from pyspark.ml.evaluation import ClusteringEvaluator,MulticlassClassificationEvaluator\n",
    "\n",
    "\n",
    "import warnings as wr\n",
    "wr.filterwarnings('ignore')"
   ]
  },
  {
   "cell_type": "markdown",
   "metadata": {},
   "source": [
    "# STARTING THE PySpark SERVER"
   ]
  },
  {
   "cell_type": "code",
   "execution_count": 63,
   "metadata": {},
   "outputs": [],
   "source": [
    "import os\n",
    "\n",
    "#os.environ[\"PYSPARK_PYTHON\"] = r\"C:\\Users\\LAPTOP0534\\miniconda3\\envs\\pyspark_v3.3.0\"\n",
    "os.environ[\"PYSPARK_PYTHON\"] = r\"C:\\Users\\tooba.alvi\\Anaconda3\\Lib\\site-packages\\pyspark\"\n",
    "#os.environ[\"PYSPARK_DRIVER_PYTHON\"] = r\"C:\\Users\\LAPTOP0534\\miniconda3\\envs\\pyspark_v3.3.0\"\n",
    "os.environ[\"PYSPARK_DRIVER_PYTHON\"] = r\"C:\\Users\\tooba.alvi\\Anaconda3\\Lib\\site-packages\\pyspark\"\n",
    "os.environ[\"JAVA_HOME\"] = r\"C:\\Program Files (x86)\\Java\\jre1.8.0_341\" "
   ]
  },
  {
   "cell_type": "code",
   "execution_count": 64,
   "metadata": {},
   "outputs": [
    {
     "name": "stdout",
     "output_type": "stream",
     "text": [
      "Spark Version: 3.5.0\n"
     ]
    }
   ],
   "source": [
    "# Initialize Spark session\n",
    "\n",
    "from pyspark.sql import SparkSession \n",
    "\n",
    "spark = SparkSession.builder.appName('cluster').getOrCreate() \n",
    "print('Spark Version: {}'.format(spark.version))\n",
    "#sc = spark.sparkContext\n",
    "#importing sparksession\n",
    "#sc.setLogLevel(\"INFO\")"
   ]
  },
  {
   "cell_type": "markdown",
   "metadata": {},
   "source": [
    "# DATASET INITIALIZATION WITH SPARK"
   ]
  },
  {
   "cell_type": "code",
   "execution_count": 13,
   "metadata": {},
   "outputs": [
    {
     "name": "stdout",
     "output_type": "stream",
     "text": [
      "+------------------+------------------+------------------+------------------+------------------+-------+------+----------+\n",
      "|              Open|              High|               Low|             Close|         Adj Close| Volume|Ticker|      Date|\n",
      "+------------------+------------------+------------------+------------------+------------------+-------+------+----------+\n",
      "|               9.0| 9.899999618530273| 8.399999618530273| 8.949999809265137| 8.949999809265137| 185046|  ARVL|2023-01-03|\n",
      "|              9.75|11.600000381469727|               9.0|11.600000381469727|11.600000381469727| 178766|  ARVL|2023-01-04|\n",
      "|11.850000381469727|              12.0|10.300000190734863|10.699999809265137|10.699999809265137| 145310|  ARVL|2023-01-05|\n",
      "|10.399999618530273|10.800000190734863|              9.75|              10.0|              10.0| 104930|  ARVL|2023-01-06|\n",
      "|10.649999618530273|              11.0|             10.25|10.600000381469727|10.600000381469727|  80312|  ARVL|2023-01-09|\n",
      "|              11.0|12.899999618530273|10.600000381469727|12.399999618530273|12.399999618530273| 155364|  ARVL|2023-01-10|\n",
      "|13.149999618530273|              15.5|12.600000381469727|              13.5|              13.5| 317726|  ARVL|2023-01-11|\n",
      "|              15.5|30.100000381469727|              14.0|              27.0|              27.0|1871958|  ARVL|2023-01-12|\n",
      "|32.650001525878906|              47.0|              30.0|             31.75|             31.75|2930070|  ARVL|2023-01-13|\n",
      "|32.400001525878906|              32.5|              27.5|              30.5|              30.5| 523580|  ARVL|2023-01-17|\n",
      "|29.850000381469727|29.850000381469727|              21.5|22.450000762939453|22.450000762939453| 579076|  ARVL|2023-01-18|\n",
      "|              19.5|21.950000762939453|             18.75|             20.75|             20.75| 408938|  ARVL|2023-01-19|\n",
      "|23.299999237060547|24.899999618530273|              20.0|              23.0|              23.0| 371666|  ARVL|2023-01-20|\n",
      "|             22.25|              24.0|              20.5|21.600000381469727|21.600000381469727| 288124|  ARVL|2023-01-23|\n",
      "|              21.0|22.950000762939453|              20.5|              21.0|              21.0| 158168|  ARVL|2023-01-24|\n",
      "|              20.5|              21.0|19.299999237060547|19.549999237060547|19.549999237060547| 147890|  ARVL|2023-01-25|\n",
      "|20.600000381469727|             21.75|19.100000381469727|              19.5|              19.5| 140768|  ARVL|2023-01-26|\n",
      "|19.450000762939453|              21.0|18.049999237060547|20.299999237060547|20.299999237060547| 288964|  ARVL|2023-01-27|\n",
      "|              20.0|21.399999618530273|19.450000762939453|              19.5|              19.5| 166306|  ARVL|2023-01-30|\n",
      "|18.950000762939453|              20.0|             18.75|              20.0|              20.0| 173084|  ARVL|2023-01-31|\n",
      "+------------------+------------------+------------------+------------------+------------------+-------+------+----------+\n",
      "only showing top 20 rows\n",
      "\n"
     ]
    }
   ],
   "source": [
    "#Loading the data \n",
    "data = spark.read.csv(\"stock_data.csv\",header=True,inferSchema=True) \n",
    "  \n",
    "#show the data in the above file using the below command \n",
    "data.show()\n"
   ]
  },
  {
   "cell_type": "code",
   "execution_count": 14,
   "metadata": {},
   "outputs": [
    {
     "name": "stdout",
     "output_type": "stream",
     "text": [
      "root\n",
      " |-- Open: double (nullable = true)\n",
      " |-- High: double (nullable = true)\n",
      " |-- Low: double (nullable = true)\n",
      " |-- Close: double (nullable = true)\n",
      " |-- Adj Close: double (nullable = true)\n",
      " |-- Volume: integer (nullable = true)\n",
      " |-- Ticker: string (nullable = true)\n",
      " |-- Date: date (nullable = true)\n",
      "\n"
     ]
    }
   ],
   "source": [
    "#Print schema \n",
    "data.printSchema()"
   ]
  },
  {
   "cell_type": "code",
   "execution_count": 15,
   "metadata": {},
   "outputs": [
    {
     "name": "stdout",
     "output_type": "stream",
     "text": [
      "<class 'pyspark.sql.column.Column'>\n"
     ]
    }
   ],
   "source": [
    "print(type(data.Open))"
   ]
  },
  {
   "cell_type": "code",
   "execution_count": 20,
   "metadata": {},
   "outputs": [
    {
     "name": "stdout",
     "output_type": "stream",
     "text": [
      "+-------+-------------------+-------------------+-------------------+------------------+------------------+--------------------+------+\n",
      "|summary|               Open|               High|                Low|             Close|         Adj Close|              Volume|Ticker|\n",
      "+-------+-------------------+-------------------+-------------------+------------------+------------------+--------------------+------+\n",
      "|  count|               8645|               8645|               8645|              8645|              8645|                8645|  8645|\n",
      "|   mean|  81.80269150041978|  85.32145538782801|  77.77814181576218| 80.76114745040707| 80.71584420275781|1.2205365913938694E7|  NULL|\n",
      "| stddev|  559.5472954697018|  594.0801728718307|  524.7833113717536| 552.9918959086212| 552.9898648390152| 2.873651159613667E7|  NULL|\n",
      "|    min|0.07400000095367432|0.07999999821186066|0.06599999964237213|0.0729999989271164|0.0729999989271164|                   0|  ARVL|\n",
      "|    25%|  2.069999933242798| 2.1500000953674316| 1.9800000190734863| 2.049999952316284| 2.049999952316284|               63000|  NULL|\n",
      "|    50%|  7.860000133514404|  8.149999618530273|  7.570000171661377| 7.880000114440918| 7.880000114440918|              602100|  NULL|\n",
      "|    75%| 21.770000457763672| 22.461999893188477| 21.094999313354492|21.760000228881836|21.760000228881836|             9300200|  NULL|\n",
      "|    max|             9675.0|            10800.0|             9225.0|            9450.0|            9450.0|           306590600|  ZAPP|\n",
      "+-------+-------------------+-------------------+-------------------+------------------+------------------+--------------------+------+\n",
      "\n"
     ]
    }
   ],
   "source": [
    "data.summary().show()"
   ]
  },
  {
   "cell_type": "markdown",
   "metadata": {},
   "source": [
    "# SUMMARY ANALYSIS ON FILTERED SAMPLES"
   ]
  },
  {
   "cell_type": "code",
   "execution_count": 19,
   "metadata": {},
   "outputs": [
    {
     "name": "stdout",
     "output_type": "stream",
     "text": [
      "+-------+------------------+------------------+--------------------+\n",
      "|summary|               Low|              High|              Volume|\n",
      "+-------+------------------+------------------+--------------------+\n",
      "|  count|              3958|              3958|                3958|\n",
      "|   mean|  166.273875415536|182.44958641506193|1.8636624970944922E7|\n",
      "| stddev| 766.2538113415321|  868.077488434941| 3.785117130040473E7|\n",
      "|    min| 6.949999809265137|10.020000457763672|                   0|\n",
      "|    25%|14.319999694824219|  15.1899995803833|              189700|\n",
      "|    50%| 23.40999984741211|24.639999389648438|             1041300|\n",
      "|    75%|              46.0|  52.9900016784668|            15531400|\n",
      "|    max|            9225.0|           10800.0|           306590600|\n",
      "+-------+------------------+------------------+--------------------+\n",
      "\n"
     ]
    }
   ],
   "source": [
    "\n",
    "# Generate summary statistics for Adjusted close price greater than 10\n",
    "\n",
    "filtered_df1 = data.select(\"Low\",\"High\",\"Volume\").filter(\"Close > 10.0\")\n",
    "filtered_df1.summary().show()\n",
    "\n"
   ]
  },
  {
   "cell_type": "code",
   "execution_count": 18,
   "metadata": {},
   "outputs": [
    {
     "name": "stdout",
     "output_type": "stream",
     "text": [
      "+-------+------------------+------------------+--------------------+\n",
      "|summary|               Low|              High|              Volume|\n",
      "+-------+------------------+------------------+--------------------+\n",
      "|  count|              2945|              2945|                2945|\n",
      "|   mean| 219.5826441015169|241.17161392866046|1.7577457228183363E7|\n",
      "| stddev| 882.0812932418922| 999.6857829644205| 4.033670457352698E7|\n",
      "|    min|11.609999656677246|  15.0600004196167|                3958|\n",
      "|    25%|  20.5049991607666| 21.93000030517578|              254100|\n",
      "|    50%|32.369998931884766|33.529998779296875|             1062800|\n",
      "|    75%| 155.2100067138672|160.60000610351562|            10794700|\n",
      "|    max|            9225.0|           10800.0|           306590600|\n",
      "+-------+------------------+------------------+--------------------+\n",
      "\n"
     ]
    }
   ],
   "source": [
    "\n",
    "# Generate summary statistics for Opening Stocks greater than 15\n",
    "\n",
    "filtered_df2 = data.select(\"Low\", \"High\",\"Volume\").filter(\"Open > 15\")\n",
    "filtered_df2.summary().show()"
   ]
  },
  {
   "cell_type": "markdown",
   "metadata": {},
   "source": [
    "# IMPLEMENT LABEL ENCODING "
   ]
  },
  {
   "cell_type": "code",
   "execution_count": 21,
   "metadata": {},
   "outputs": [
    {
     "name": "stdout",
     "output_type": "stream",
     "text": [
      "The original dataframe is:\n",
      "+------------------+------------------+------------------+------------------+------------------+-------+------+----------+\n",
      "|              Open|              High|               Low|             Close|         Adj Close| Volume|Ticker|      Date|\n",
      "+------------------+------------------+------------------+------------------+------------------+-------+------+----------+\n",
      "|               9.0| 9.899999618530273| 8.399999618530273| 8.949999809265137| 8.949999809265137| 185046|  ARVL|2023-01-03|\n",
      "|              9.75|11.600000381469727|               9.0|11.600000381469727|11.600000381469727| 178766|  ARVL|2023-01-04|\n",
      "|11.850000381469727|              12.0|10.300000190734863|10.699999809265137|10.699999809265137| 145310|  ARVL|2023-01-05|\n",
      "|10.399999618530273|10.800000190734863|              9.75|              10.0|              10.0| 104930|  ARVL|2023-01-06|\n",
      "|10.649999618530273|              11.0|             10.25|10.600000381469727|10.600000381469727|  80312|  ARVL|2023-01-09|\n",
      "|              11.0|12.899999618530273|10.600000381469727|12.399999618530273|12.399999618530273| 155364|  ARVL|2023-01-10|\n",
      "|13.149999618530273|              15.5|12.600000381469727|              13.5|              13.5| 317726|  ARVL|2023-01-11|\n",
      "|              15.5|30.100000381469727|              14.0|              27.0|              27.0|1871958|  ARVL|2023-01-12|\n",
      "|32.650001525878906|              47.0|              30.0|             31.75|             31.75|2930070|  ARVL|2023-01-13|\n",
      "|32.400001525878906|              32.5|              27.5|              30.5|              30.5| 523580|  ARVL|2023-01-17|\n",
      "|29.850000381469727|29.850000381469727|              21.5|22.450000762939453|22.450000762939453| 579076|  ARVL|2023-01-18|\n",
      "|              19.5|21.950000762939453|             18.75|             20.75|             20.75| 408938|  ARVL|2023-01-19|\n",
      "|23.299999237060547|24.899999618530273|              20.0|              23.0|              23.0| 371666|  ARVL|2023-01-20|\n",
      "|             22.25|              24.0|              20.5|21.600000381469727|21.600000381469727| 288124|  ARVL|2023-01-23|\n",
      "|              21.0|22.950000762939453|              20.5|              21.0|              21.0| 158168|  ARVL|2023-01-24|\n",
      "|              20.5|              21.0|19.299999237060547|19.549999237060547|19.549999237060547| 147890|  ARVL|2023-01-25|\n",
      "|20.600000381469727|             21.75|19.100000381469727|              19.5|              19.5| 140768|  ARVL|2023-01-26|\n",
      "|19.450000762939453|              21.0|18.049999237060547|20.299999237060547|20.299999237060547| 288964|  ARVL|2023-01-27|\n",
      "|              20.0|21.399999618530273|19.450000762939453|              19.5|              19.5| 166306|  ARVL|2023-01-30|\n",
      "|18.950000762939453|              20.0|             18.75|              20.0|              20.0| 173084|  ARVL|2023-01-31|\n",
      "+------------------+------------------+------------------+------------------+------------------+-------+------+----------+\n",
      "only showing top 20 rows\n",
      "\n",
      "The output dataframe is:\n",
      "+------------------+------------------+------------------+------------------+------------------+-------+------+\n",
      "|              Open|              High|               Low|             Close|         Adj Close| Volume|Ticker|\n",
      "+------------------+------------------+------------------+------------------+------------------+-------+------+\n",
      "|               9.0| 9.899999618530273| 8.399999618530273| 8.949999809265137| 8.949999809265137| 185046|   0.0|\n",
      "|              9.75|11.600000381469727|               9.0|11.600000381469727|11.600000381469727| 178766|   0.0|\n",
      "|11.850000381469727|              12.0|10.300000190734863|10.699999809265137|10.699999809265137| 145310|   0.0|\n",
      "|10.399999618530273|10.800000190734863|              9.75|              10.0|              10.0| 104930|   0.0|\n",
      "|10.649999618530273|              11.0|             10.25|10.600000381469727|10.600000381469727|  80312|   0.0|\n",
      "|              11.0|12.899999618530273|10.600000381469727|12.399999618530273|12.399999618530273| 155364|   0.0|\n",
      "|13.149999618530273|              15.5|12.600000381469727|              13.5|              13.5| 317726|   0.0|\n",
      "|              15.5|30.100000381469727|              14.0|              27.0|              27.0|1871958|   0.0|\n",
      "|32.650001525878906|              47.0|              30.0|             31.75|             31.75|2930070|   0.0|\n",
      "|32.400001525878906|              32.5|              27.5|              30.5|              30.5| 523580|   0.0|\n",
      "|29.850000381469727|29.850000381469727|              21.5|22.450000762939453|22.450000762939453| 579076|   0.0|\n",
      "|              19.5|21.950000762939453|             18.75|             20.75|             20.75| 408938|   0.0|\n",
      "|23.299999237060547|24.899999618530273|              20.0|              23.0|              23.0| 371666|   0.0|\n",
      "|             22.25|              24.0|              20.5|21.600000381469727|21.600000381469727| 288124|   0.0|\n",
      "|              21.0|22.950000762939453|              20.5|              21.0|              21.0| 158168|   0.0|\n",
      "|              20.5|              21.0|19.299999237060547|19.549999237060547|19.549999237060547| 147890|   0.0|\n",
      "|20.600000381469727|             21.75|19.100000381469727|              19.5|              19.5| 140768|   0.0|\n",
      "|19.450000762939453|              21.0|18.049999237060547|20.299999237060547|20.299999237060547| 288964|   0.0|\n",
      "|              20.0|21.399999618530273|19.450000762939453|              19.5|              19.5| 166306|   0.0|\n",
      "|18.950000762939453|              20.0|             18.75|              20.0|              20.0| 173084|   0.0|\n",
      "+------------------+------------------+------------------+------------------+------------------+-------+------+\n",
      "only showing top 20 rows\n",
      "\n"
     ]
    }
   ],
   "source": [
    "from pyspark.ml.feature import StringIndexer\n",
    "\n",
    "print(\"The original dataframe is:\")\n",
    "data.show()\n",
    "ticker_label = StringIndexer(inputCol=\"Ticker\", outputCol=\"Ticker_label\") \n",
    "#indexer = StringIndexer(inputCol=\"City\", outputCol=\"City_label\") \n",
    "indexed = ticker_label.fit(data).transform(data)\n",
    "indexed_df=indexed.drop(\"Ticker\",\"Date\").withColumnRenamed(\"Ticker_label\",\"Ticker\")\n",
    "print(\"The output dataframe is:\")\n",
    "indexed_df.show()\n",
    "#spark.sparkContext.stop()"
   ]
  },
  {
   "cell_type": "markdown",
   "metadata": {},
   "source": [
    "# K-MEANS CLUSTER ANALYSIS "
   ]
  },
  {
   "cell_type": "code",
   "execution_count": 27,
   "metadata": {},
   "outputs": [],
   "source": [
    "cluster_df=indexed_df.drop(\"Ticker\",'Volume')"
   ]
  },
  {
   "cell_type": "code",
   "execution_count": 28,
   "metadata": {},
   "outputs": [
    {
     "data": {
      "text/plain": [
       "['Open', 'High', 'Low', 'Close', 'Adj Close']"
      ]
     },
     "execution_count": 28,
     "metadata": {},
     "output_type": "execute_result"
    }
   ],
   "source": [
    "cluster_df.columns"
   ]
  },
  {
   "cell_type": "code",
   "execution_count": 31,
   "metadata": {},
   "outputs": [
    {
     "data": {
      "text/plain": [
       "DataFrame[Open: double, High: double, Low: double, Close: double, Adj Close: double]"
      ]
     },
     "execution_count": 31,
     "metadata": {},
     "output_type": "execute_result"
    }
   ],
   "source": [
    "cluster_df.fillna(0, subset=cluster_df.columns)"
   ]
  },
  {
   "cell_type": "code",
   "execution_count": 32,
   "metadata": {},
   "outputs": [
    {
     "data": {
      "text/plain": [
       "VectorAssembler_e1cd5f06beb4"
      ]
     },
     "execution_count": 32,
     "metadata": {},
     "output_type": "execute_result"
    }
   ],
   "source": [
    "vecAssembler = VectorAssembler(outputCol=\"features\")\n",
    "vecAssembler.setInputCols([\"Open\", \"High\", \"Low\", \"Close\", \"Adj Close\"])"
   ]
  },
  {
   "cell_type": "code",
   "execution_count": 33,
   "metadata": {},
   "outputs": [
    {
     "name": "stdout",
     "output_type": "stream",
     "text": [
      "+--------------------+\n",
      "|            features|\n",
      "+--------------------+\n",
      "|[9.0,9.8999996185...|\n",
      "|[9.75,11.60000038...|\n",
      "|[11.8500003814697...|\n",
      "|[10.3999996185302...|\n",
      "|[10.6499996185302...|\n",
      "+--------------------+\n",
      "only showing top 5 rows\n",
      "\n"
     ]
    }
   ],
   "source": [
    "final_data = vecAssembler.transform(cluster_df) \n",
    "final_data.select('features').show(5)"
   ]
  },
  {
   "cell_type": "code",
   "execution_count": 34,
   "metadata": {},
   "outputs": [
    {
     "name": "stdout",
     "output_type": "stream",
     "text": [
      "+--------------------+\n",
      "|      scaledFeatures|\n",
      "+--------------------+\n",
      "|[0.01608443124087...|\n",
      "|[0.01742480051094...|\n",
      "|[0.02117783514889...|\n",
      "|[0.01858645319659...|\n",
      "|[0.01903324295328...|\n",
      "+--------------------+\n",
      "only showing top 5 rows\n",
      "\n"
     ]
    }
   ],
   "source": [
    "scaler = StandardScaler(inputCol=\"features\", outputCol=\"scaledFeatures\", withStd=True, withMean=False) \n",
    "\n",
    "# Compute summary statistics by fitting the StandardScaler \n",
    "scalerModel = scaler.fit(final_data) \n",
    "\n",
    "# Normalize each feature to have unit standard deviation. \n",
    "final_data = scalerModel.transform(final_data) \n",
    "\n",
    "final_data.select('scaledFeatures').show(5)\n"
   ]
  },
  {
   "cell_type": "markdown",
   "metadata": {},
   "source": [
    "# CLUSTER EVALUATION USING Silhouette Coefficient\n",
    "* Score of 1: The data point is compact within its cluster and far away from other clusters.\n",
    "* Score of 0: The data point is on or close to the decision boundary between two clusters.\n",
    "* Score near 0: The clusters overlap.\n",
    "* Score above 0.5: The clustering is good.\n",
    "* Score between 0.25 and 0.5: The clustering is fair.\n",
    "* Score below 0.25: The clustering is bad.\n",
    "* Negative value: The sample is likely assigned to the wrong cluster"
   ]
  },
  {
   "cell_type": "code",
   "execution_count": 35,
   "metadata": {},
   "outputs": [
    {
     "name": "stdout",
     "output_type": "stream",
     "text": [
      "Silhouette Score for k = 2 is 0.997074249452472\n",
      "Silhouette Score for k = 3 is 0.995225191598388\n",
      "Silhouette Score for k = 4 is 0.9943580635457298\n",
      "Silhouette Score for k = 5 is 0.988829771744016\n",
      "Silhouette Score for k = 6 is 0.9888100564088439\n",
      "Silhouette Score for k = 7 is 0.9599497829279637\n",
      "Silhouette Score for k = 8 is 0.9513692180397549\n",
      "Silhouette Score for k = 9 is 0.9651446841427012\n"
     ]
    }
   ],
   "source": [
    "#Defining the metric \n",
    "silhouette_score=[] \n",
    "\n",
    "evaluator = ClusteringEvaluator(predictionCol='prediction',featuresCol='scaledFeatures', metricName='silhouette', \n",
    "distanceMeasure='squaredEuclidean') \n",
    "\n",
    "for i in range(2,10): \n",
    "    kmeans=KMeans(featuresCol='scaledFeatures', k=i) \n",
    "    model=kmeans.fit(final_data) \n",
    "    predictions=model.transform(final_data) \n",
    "    score=evaluator.evaluate(predictions) \n",
    "    silhouette_score.append(score) \n",
    "    print('Silhouette Score for k =',i,'is',score)\n"
   ]
  },
  {
   "cell_type": "code",
   "execution_count": 36,
   "metadata": {},
   "outputs": [
    {
     "data": {
      "image/png": "[encoded data removed]",
      "text/plain": [
       "<Figure size 640x480 with 1 Axes>"
      ]
     },
     "metadata": {},
     "output_type": "display_data"
    }
   ],
   "source": [
    "#Visualizing the silhouette scores in a plot \n",
    "import matplotlib.pyplot as plt \n",
    "\n",
    "plt.plot(range(2,10),silhouette_score) \n",
    "plt.xlabel('k') \n",
    "plt.ylabel('silhouette score') \n",
    "plt.title('Silhouette Score') \n",
    "plt.show()\n"
   ]
  },
  {
   "cell_type": "code",
   "execution_count": 40,
   "metadata": {},
   "outputs": [],
   "source": [
    "# Trains a k-means model. \n",
    "kmeans = KMeans(featuresCol='scaledFeatures',k=5) \n",
    "model = kmeans.fit(final_data) \n",
    "predictions = model.transform(final_data)"
   ]
  },
  {
   "cell_type": "code",
   "execution_count": 47,
   "metadata": {},
   "outputs": [
    {
     "name": "stdout",
     "output_type": "stream",
     "text": [
      "Cluster Centers: [0.05452212 0.05233389 0.05695134 0.05503415 0.05495141]\n",
      "Cluster Centers: [14.26844707 14.39199689 14.314664   14.39821602 14.3982689 ]\n",
      "Cluster Centers: [4.78511829 4.68371127 4.70194068 4.65196691 4.65198399]\n",
      "Cluster Centers: [9.34907566 9.11335329 9.35207426 9.15474537 9.154779  ]\n",
      "Cluster Centers: [2.1664065  2.14600084 2.08696975 2.07703985 2.07704748]\n"
     ]
    }
   ],
   "source": [
    "# Printing cluster centers \n",
    "centers = model.clusterCenters() \n",
    "\n",
    "for center in centers: \n",
    "    print(\"Cluster Centers:\", center) \n",
    "    \n"
   ]
  },
  {
   "cell_type": "code",
   "execution_count": 48,
   "metadata": {},
   "outputs": [
    {
     "name": "stdout",
     "output_type": "stream",
     "text": [
      "+----------+\n",
      "|prediction|\n",
      "+----------+\n",
      "|         0|\n",
      "|         0|\n",
      "|         0|\n",
      "|         0|\n",
      "|         0|\n",
      "+----------+\n",
      "only showing top 5 rows\n",
      "\n"
     ]
    }
   ],
   "source": [
    "predictions.select('prediction').show(5)"
   ]
  },
  {
   "cell_type": "markdown",
   "metadata": {},
   "source": [
    "# BUILDING MACHINE LEARNING PIPELINE USING PySpark"
   ]
  },
  {
   "cell_type": "code",
   "execution_count": null,
   "metadata": {},
   "outputs": [],
   "source": [
    "ml_df=indexed_df.drop('Volume')\n",
    "ml_df"
   ]
  },
  {
   "cell_type": "code",
   "execution_count": 49,
   "metadata": {},
   "outputs": [],
   "source": [
    "dt = DecisionTreeClassifier(labelCol=\"Ticker\",featuresCol= \"features\")"
   ]
  },
  {
   "cell_type": "code",
   "execution_count": 50,
   "metadata": {},
   "outputs": [],
   "source": [
    "pipeline = Pipeline(stages=[ticker_label,vecAssembler,dt])"
   ]
  },
  {
   "cell_type": "code",
   "execution_count": 52,
   "metadata": {},
   "outputs": [],
   "source": [
    "(trainingData,testData)=ml_df.randomSplit([0.7,0.3])\n",
    "model = pipeline.fit(trainingData)\n",
    "predictions = model.transform(testData)"
   ]
  },
  {
   "cell_type": "code",
   "execution_count": 53,
   "metadata": {},
   "outputs": [
    {
     "name": "stdout",
     "output_type": "stream",
     "text": [
      "+----------+------+--------------------+\n",
      "|prediction|Ticker|            features|\n",
      "+----------+------+--------------------+\n",
      "|      11.0|  30.0|[0.08200000226497...|\n",
      "|      11.0|  30.0|[0.08399999886751...|\n",
      "|      11.0|  30.0|[0.08900000154972...|\n",
      "|      11.0|  30.0|[0.09300000220537...|\n",
      "|      11.0|  30.0|[0.11900000274181...|\n",
      "|      11.0|  30.0|[0.12600000202655...|\n",
      "|      11.0|  30.0|[0.14000000059604...|\n",
      "|      11.0|  30.0|[0.15299999713897...|\n",
      "|      11.0|  33.0|[0.21199999749660...|\n",
      "|      11.0|  33.0|[0.21400000154972...|\n",
      "|      11.0|  33.0|[0.21999999880790...|\n",
      "|      11.0|  33.0|[0.22100000083446...|\n",
      "|      11.0|  33.0|[0.22200000286102...|\n",
      "|      11.0|  33.0|[0.23000000417232...|\n",
      "|      11.0|  33.0|[0.23000000417232...|\n",
      "|      11.0|  30.0|[0.23299999535083...|\n",
      "|      11.0|  33.0|[0.23600000143051...|\n",
      "|      11.0|  33.0|[0.23899999260902...|\n",
      "|      11.0|  33.0|[0.23999999463558...|\n",
      "|      11.0|   8.0|[0.24099999666213...|\n",
      "+----------+------+--------------------+\n",
      "only showing top 20 rows\n",
      "\n"
     ]
    }
   ],
   "source": [
    "predictions.select('prediction','Ticker','features').show(20)"
   ]
  },
  {
   "cell_type": "code",
   "execution_count": 59,
   "metadata": {},
   "outputs": [
    {
     "name": "stdout",
     "output_type": "stream",
     "text": [
      "Accuracy:0.319921875\n",
      "Test Error= 0.680078\n"
     ]
    }
   ],
   "source": [
    "evaluator = MulticlassClassificationEvaluator(\n",
    "    predictionCol=\"prediction\",labelCol=\"Ticker\",metricName=\"accuracy\")\n",
    "accuracy= evaluator.evaluate(predictions)\n",
    "print(\"Accuracy:\"+str(accuracy))\n",
    "print(\"Test Error= %g\" % (1.0-accuracy))"
   ]
  },
  {
   "cell_type": "code",
   "execution_count": 61,
   "metadata": {},
   "outputs": [
    {
     "data": {
      "text/html": [
       "\n",
       "            <div>\n",
       "                <p><b>SparkSession - in-memory</b></p>\n",
       "                \n",
       "        <div>\n",
       "            <p><b>SparkContext</b></p>\n",
       "\n",
       "            <p><a href=\"http://CLS-PAE-FL69142.aku.edu:4040\">Spark UI</a></p>\n",
       "\n",
       "            <dl>\n",
       "              <dt>Version</dt>\n",
       "                <dd><code>v3.5.0</code></dd>\n",
       "              <dt>Master</dt>\n",
       "                <dd><code>local[*]</code></dd>\n",
       "              <dt>AppName</dt>\n",
       "                <dd><code>cluster</code></dd>\n",
       "            </dl>\n",
       "        </div>\n",
       "        \n",
       "            </div>\n",
       "        "
      ],
      "text/plain": [
       "<pyspark.sql.session.SparkSession at 0x13278367f10>"
      ]
     },
     "execution_count": 61,
     "metadata": {},
     "output_type": "execute_result"
    }
   ],
   "source": [
    "# Create the Spark Session using Kafka\n",
    "from pyspark.sql import SparkSession\n",
    "\n",
    "spark2 = SparkSession \\\n",
    "    .builder \\\n",
    "    .appName(\"Streaming from Kafka\") \\\n",
    "    .config(\"spark.streaming.stopGracefullyOnShutdown\", True) \\\n",
    "    .config('spark.jars.packages', 'org.apache.spark:spark-sql-kafka-0-10_2.12:3.3.0') \\\n",
    "    .config(\"spark.sql.shuffle.partitions\", 4) \\\n",
    "    .master(\"local[*]\") \\\n",
    "    .getOrCreate()\n",
    "\n",
    "spark2"
   ]
  },
  {
   "cell_type": "code",
   "execution_count": null,
   "metadata": {},
   "outputs": [],
   "source": []
  }
 ],
 "metadata": {
  "kernelspec": {
   "display_name": "Python 3 (ipykernel)",
   "language": "python",
   "name": "python3"
  },
  "language_info": {
   "codemirror_mode": {
    "name": "ipython",
    "version": 3
   },
   "file_extension": ".py",
   "mimetype": "text/x-python",
   "name": "python",
   "nbconvert_exporter": "python",
   "pygments_lexer": "ipython3",
   "version": "3.9.13"
  }
 },
 "nbformat": 4,
 "nbformat_minor": 2
}
